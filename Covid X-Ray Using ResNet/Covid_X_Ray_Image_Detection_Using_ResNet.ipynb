{
  "nbformat": 4,
  "nbformat_minor": 0,
  "metadata": {
    "colab": {
      "name": "Covid X-Ray Image Detection Using ResNet",
      "provenance": [],
      "collapsed_sections": [],
      "toc_visible": true
    },
    "kernelspec": {
      "name": "python3",
      "display_name": "Python 3"
    },
    "accelerator": "GPU"
  },
  "cells": [
    {
      "cell_type": "markdown",
      "metadata": {
        "id": "-bkPo46Oj9x4",
        "colab_type": "text"
      },
      "source": [
        "## Importing All Librarey"
      ]
    },
    {
      "cell_type": "code",
      "metadata": {
        "id": "FbssrA5JPgYB",
        "colab_type": "code",
        "colab": {
          "base_uri": "https://localhost:8080/",
          "height": 122
        },
        "outputId": "f932d8c5-bb87-4b22-f495-a433c7f5c1f1"
      },
      "source": [
        "from google.colab import drive\n",
        "drive.mount('/content/gdrive')"
      ],
      "execution_count": 1,
      "outputs": [
        {
          "output_type": "stream",
          "text": [
            "Go to this URL in a browser: https://accounts.google.com/o/oauth2/auth?client_id=947318989803-6bn6qk8qdgf4n4g3pfee6491hc0brc4i.apps.googleusercontent.com&redirect_uri=urn%3aietf%3awg%3aoauth%3a2.0%3aoob&scope=email%20https%3a%2f%2fwww.googleapis.com%2fauth%2fdocs.test%20https%3a%2f%2fwww.googleapis.com%2fauth%2fdrive%20https%3a%2f%2fwww.googleapis.com%2fauth%2fdrive.photos.readonly%20https%3a%2f%2fwww.googleapis.com%2fauth%2fpeopleapi.readonly&response_type=code\n",
            "\n",
            "Enter your authorization code:\n",
            "··········\n",
            "Mounted at /content/gdrive\n"
          ],
          "name": "stdout"
        }
      ]
    },
    {
      "cell_type": "code",
      "metadata": {
        "id": "x9TUHqnx1AEk",
        "colab_type": "code",
        "colab": {}
      },
      "source": [
        "from tensorflow.keras.layers import Dense, Flatten, Input, Lambda\n",
        "from tensorflow.keras.models import Model\n",
        "from tensorflow.keras.applications.vgg16 import VGG16\n",
        "from tensorflow.keras.applications.resnet50 import ResNet50\n",
        "from tensorflow.keras.preprocessing import image\n",
        "from tensorflow.keras.preprocessing.image import ImageDataGenerator, load_img\n",
        "from keras.models import Sequential\n",
        "from glob import glob\n",
        "import matplotlib.pyplot as plt\n",
        "import numpy as np"
      ],
      "execution_count": 2,
      "outputs": []
    },
    {
      "cell_type": "markdown",
      "metadata": {
        "id": "ePxL2MeJj6By",
        "colab_type": "text"
      },
      "source": [
        "## Deciding The Image Size"
      ]
    },
    {
      "cell_type": "code",
      "metadata": {
        "id": "j9R654Xl2G8J",
        "colab_type": "code",
        "colab": {}
      },
      "source": [
        "IMAGE_SIZE=[224,224]\n",
        "\n",
        "train_path='/content/drive/My Drive/Colab Notebooks/Covid Chest X-ray/Train'\n",
        "test_path='/content/drive/My Drive/Colab Notebooks/Covid Chest X-ray/Test'"
      ],
      "execution_count": 3,
      "outputs": []
    },
    {
      "cell_type": "markdown",
      "metadata": {
        "id": "otKS1lBWkXVm",
        "colab_type": "text"
      },
      "source": [
        "* In input_shape argument + [3] basically indicates that there are 3 channels i.e RGB.\n",
        "\n",
        "* The weights we will be using are default weights ie imagent weights.\n",
        " \n",
        "* The argument include_top = False means that in case of ResNet-50 we have 1000 categories but in our case we have only two categories.\n",
        "\n",
        "* Because of that we dont have to use our 1st and the last layer.\n",
        "\n",
        "* If you would have had 1000 categories we would have passed include_top = True.\n",
        "\n",
        "* In the top most layer we need to provide our own layer our own dataset beacause of that we are using include_top = False."
      ]
    },
    {
      "cell_type": "code",
      "metadata": {
        "id": "-D_g6Xln2eCs",
        "colab_type": "code",
        "colab": {
          "base_uri": "https://localhost:8080/",
          "height": 71
        },
        "outputId": "9ffd4e9d-7699-4a6e-c138-217a4c17ac43"
      },
      "source": [
        "resnet = ResNet50(input_shape = IMAGE_SIZE + [3], weights='imagenet', include_top=False)"
      ],
      "execution_count": 4,
      "outputs": [
        {
          "output_type": "stream",
          "text": [
            "Downloading data from https://storage.googleapis.com/tensorflow/keras-applications/resnet/resnet50_weights_tf_dim_ordering_tf_kernels_notop.h5\n",
            "94773248/94765736 [==============================] - 1s 0us/step\n"
          ],
          "name": "stdout"
        }
      ]
    },
    {
      "cell_type": "markdown",
      "metadata": {
        "id": "cWdsvuGukeqG",
        "colab_type": "text"
      },
      "source": [
        "* Now We Do not Have train our exissting weight we just have to train our last layer."
      ]
    },
    {
      "cell_type": "code",
      "metadata": {
        "id": "_IV6IY_Y2x-5",
        "colab_type": "code",
        "colab": {}
      },
      "source": [
        "for layer in resnet.layers:\n",
        "  layer.trainable = False"
      ],
      "execution_count": 5,
      "outputs": []
    },
    {
      "cell_type": "markdown",
      "metadata": {
        "id": "iaG0e7y4kl-p",
        "colab_type": "text"
      },
      "source": [
        "* * we are using glob function to know the output classes"
      ]
    },
    {
      "cell_type": "code",
      "metadata": {
        "id": "o_uxo29l3HSm",
        "colab_type": "code",
        "colab": {
          "base_uri": "https://localhost:8080/",
          "height": 51
        },
        "outputId": "f7022f8d-670a-483e-a6f6-f5d31937a64f"
      },
      "source": [
        "folders=glob('/content/gdrive/My Drive/Colab Notebooks/Covid Chest X-ray/Data Set/*')\n",
        "folders"
      ],
      "execution_count": 9,
      "outputs": [
        {
          "output_type": "execute_result",
          "data": {
            "text/plain": [
              "['/content/gdrive/My Drive/Colab Notebooks/Covid Chest X-ray/Data Set/Train',\n",
              " '/content/gdrive/My Drive/Colab Notebooks/Covid Chest X-ray/Data Set/Test']"
            ]
          },
          "metadata": {
            "tags": []
          },
          "execution_count": 9
        }
      ]
    },
    {
      "cell_type": "markdown",
      "metadata": {
        "id": "bNZjxPZwkr7F",
        "colab_type": "text"
      },
      "source": [
        "## Flatten Our Resnet Model"
      ]
    },
    {
      "cell_type": "markdown",
      "metadata": {
        "id": "eYQE-1I6krPg",
        "colab_type": "text"
      },
      "source": [
        "* Flatting is required when we have to convert our layer to a fully connected layer.\n",
        "* We need to convert our 2D features to 1D features."
      ]
    },
    {
      "cell_type": "code",
      "metadata": {
        "id": "BlH7Bjt-3St5",
        "colab_type": "code",
        "colab": {}
      },
      "source": [
        "x = Flatten()(resnet.output)"
      ],
      "execution_count": 10,
      "outputs": []
    },
    {
      "cell_type": "markdown",
      "metadata": {
        "id": "V2ziagtfk-2p",
        "colab_type": "text"
      },
      "source": [
        "* Adding Our Last Layer"
      ]
    },
    {
      "cell_type": "code",
      "metadata": {
        "id": "eAiN2ByS3m59",
        "colab_type": "code",
        "colab": {}
      },
      "source": [
        "prediction = Dense(len(folders), activation='softmax')(x)"
      ],
      "execution_count": 11,
      "outputs": []
    },
    {
      "cell_type": "code",
      "metadata": {
        "id": "2i6ODAhM32uS",
        "colab_type": "code",
        "colab": {}
      },
      "source": [
        "model = Model(inputs = resnet.inputs, outputs = prediction)"
      ],
      "execution_count": 12,
      "outputs": []
    },
    {
      "cell_type": "code",
      "metadata": {
        "id": "rYmasVHn4OjB",
        "colab_type": "code",
        "colab": {
          "base_uri": "https://localhost:8080/",
          "height": 1000
        },
        "outputId": "2391dc7c-52c7-4daa-e0b5-7f80996f42e0"
      },
      "source": [
        "model.summary()"
      ],
      "execution_count": 13,
      "outputs": [
        {
          "output_type": "stream",
          "text": [
            "Model: \"functional_1\"\n",
            "__________________________________________________________________________________________________\n",
            "Layer (type)                    Output Shape         Param #     Connected to                     \n",
            "==================================================================================================\n",
            "input_1 (InputLayer)            [(None, 224, 224, 3) 0                                            \n",
            "__________________________________________________________________________________________________\n",
            "conv1_pad (ZeroPadding2D)       (None, 230, 230, 3)  0           input_1[0][0]                    \n",
            "__________________________________________________________________________________________________\n",
            "conv1_conv (Conv2D)             (None, 112, 112, 64) 9472        conv1_pad[0][0]                  \n",
            "__________________________________________________________________________________________________\n",
            "conv1_bn (BatchNormalization)   (None, 112, 112, 64) 256         conv1_conv[0][0]                 \n",
            "__________________________________________________________________________________________________\n",
            "conv1_relu (Activation)         (None, 112, 112, 64) 0           conv1_bn[0][0]                   \n",
            "__________________________________________________________________________________________________\n",
            "pool1_pad (ZeroPadding2D)       (None, 114, 114, 64) 0           conv1_relu[0][0]                 \n",
            "__________________________________________________________________________________________________\n",
            "pool1_pool (MaxPooling2D)       (None, 56, 56, 64)   0           pool1_pad[0][0]                  \n",
            "__________________________________________________________________________________________________\n",
            "conv2_block1_1_conv (Conv2D)    (None, 56, 56, 64)   4160        pool1_pool[0][0]                 \n",
            "__________________________________________________________________________________________________\n",
            "conv2_block1_1_bn (BatchNormali (None, 56, 56, 64)   256         conv2_block1_1_conv[0][0]        \n",
            "__________________________________________________________________________________________________\n",
            "conv2_block1_1_relu (Activation (None, 56, 56, 64)   0           conv2_block1_1_bn[0][0]          \n",
            "__________________________________________________________________________________________________\n",
            "conv2_block1_2_conv (Conv2D)    (None, 56, 56, 64)   36928       conv2_block1_1_relu[0][0]        \n",
            "__________________________________________________________________________________________________\n",
            "conv2_block1_2_bn (BatchNormali (None, 56, 56, 64)   256         conv2_block1_2_conv[0][0]        \n",
            "__________________________________________________________________________________________________\n",
            "conv2_block1_2_relu (Activation (None, 56, 56, 64)   0           conv2_block1_2_bn[0][0]          \n",
            "__________________________________________________________________________________________________\n",
            "conv2_block1_0_conv (Conv2D)    (None, 56, 56, 256)  16640       pool1_pool[0][0]                 \n",
            "__________________________________________________________________________________________________\n",
            "conv2_block1_3_conv (Conv2D)    (None, 56, 56, 256)  16640       conv2_block1_2_relu[0][0]        \n",
            "__________________________________________________________________________________________________\n",
            "conv2_block1_0_bn (BatchNormali (None, 56, 56, 256)  1024        conv2_block1_0_conv[0][0]        \n",
            "__________________________________________________________________________________________________\n",
            "conv2_block1_3_bn (BatchNormali (None, 56, 56, 256)  1024        conv2_block1_3_conv[0][0]        \n",
            "__________________________________________________________________________________________________\n",
            "conv2_block1_add (Add)          (None, 56, 56, 256)  0           conv2_block1_0_bn[0][0]          \n",
            "                                                                 conv2_block1_3_bn[0][0]          \n",
            "__________________________________________________________________________________________________\n",
            "conv2_block1_out (Activation)   (None, 56, 56, 256)  0           conv2_block1_add[0][0]           \n",
            "__________________________________________________________________________________________________\n",
            "conv2_block2_1_conv (Conv2D)    (None, 56, 56, 64)   16448       conv2_block1_out[0][0]           \n",
            "__________________________________________________________________________________________________\n",
            "conv2_block2_1_bn (BatchNormali (None, 56, 56, 64)   256         conv2_block2_1_conv[0][0]        \n",
            "__________________________________________________________________________________________________\n",
            "conv2_block2_1_relu (Activation (None, 56, 56, 64)   0           conv2_block2_1_bn[0][0]          \n",
            "__________________________________________________________________________________________________\n",
            "conv2_block2_2_conv (Conv2D)    (None, 56, 56, 64)   36928       conv2_block2_1_relu[0][0]        \n",
            "__________________________________________________________________________________________________\n",
            "conv2_block2_2_bn (BatchNormali (None, 56, 56, 64)   256         conv2_block2_2_conv[0][0]        \n",
            "__________________________________________________________________________________________________\n",
            "conv2_block2_2_relu (Activation (None, 56, 56, 64)   0           conv2_block2_2_bn[0][0]          \n",
            "__________________________________________________________________________________________________\n",
            "conv2_block2_3_conv (Conv2D)    (None, 56, 56, 256)  16640       conv2_block2_2_relu[0][0]        \n",
            "__________________________________________________________________________________________________\n",
            "conv2_block2_3_bn (BatchNormali (None, 56, 56, 256)  1024        conv2_block2_3_conv[0][0]        \n",
            "__________________________________________________________________________________________________\n",
            "conv2_block2_add (Add)          (None, 56, 56, 256)  0           conv2_block1_out[0][0]           \n",
            "                                                                 conv2_block2_3_bn[0][0]          \n",
            "__________________________________________________________________________________________________\n",
            "conv2_block2_out (Activation)   (None, 56, 56, 256)  0           conv2_block2_add[0][0]           \n",
            "__________________________________________________________________________________________________\n",
            "conv2_block3_1_conv (Conv2D)    (None, 56, 56, 64)   16448       conv2_block2_out[0][0]           \n",
            "__________________________________________________________________________________________________\n",
            "conv2_block3_1_bn (BatchNormali (None, 56, 56, 64)   256         conv2_block3_1_conv[0][0]        \n",
            "__________________________________________________________________________________________________\n",
            "conv2_block3_1_relu (Activation (None, 56, 56, 64)   0           conv2_block3_1_bn[0][0]          \n",
            "__________________________________________________________________________________________________\n",
            "conv2_block3_2_conv (Conv2D)    (None, 56, 56, 64)   36928       conv2_block3_1_relu[0][0]        \n",
            "__________________________________________________________________________________________________\n",
            "conv2_block3_2_bn (BatchNormali (None, 56, 56, 64)   256         conv2_block3_2_conv[0][0]        \n",
            "__________________________________________________________________________________________________\n",
            "conv2_block3_2_relu (Activation (None, 56, 56, 64)   0           conv2_block3_2_bn[0][0]          \n",
            "__________________________________________________________________________________________________\n",
            "conv2_block3_3_conv (Conv2D)    (None, 56, 56, 256)  16640       conv2_block3_2_relu[0][0]        \n",
            "__________________________________________________________________________________________________\n",
            "conv2_block3_3_bn (BatchNormali (None, 56, 56, 256)  1024        conv2_block3_3_conv[0][0]        \n",
            "__________________________________________________________________________________________________\n",
            "conv2_block3_add (Add)          (None, 56, 56, 256)  0           conv2_block2_out[0][0]           \n",
            "                                                                 conv2_block3_3_bn[0][0]          \n",
            "__________________________________________________________________________________________________\n",
            "conv2_block3_out (Activation)   (None, 56, 56, 256)  0           conv2_block3_add[0][0]           \n",
            "__________________________________________________________________________________________________\n",
            "conv3_block1_1_conv (Conv2D)    (None, 28, 28, 128)  32896       conv2_block3_out[0][0]           \n",
            "__________________________________________________________________________________________________\n",
            "conv3_block1_1_bn (BatchNormali (None, 28, 28, 128)  512         conv3_block1_1_conv[0][0]        \n",
            "__________________________________________________________________________________________________\n",
            "conv3_block1_1_relu (Activation (None, 28, 28, 128)  0           conv3_block1_1_bn[0][0]          \n",
            "__________________________________________________________________________________________________\n",
            "conv3_block1_2_conv (Conv2D)    (None, 28, 28, 128)  147584      conv3_block1_1_relu[0][0]        \n",
            "__________________________________________________________________________________________________\n",
            "conv3_block1_2_bn (BatchNormali (None, 28, 28, 128)  512         conv3_block1_2_conv[0][0]        \n",
            "__________________________________________________________________________________________________\n",
            "conv3_block1_2_relu (Activation (None, 28, 28, 128)  0           conv3_block1_2_bn[0][0]          \n",
            "__________________________________________________________________________________________________\n",
            "conv3_block1_0_conv (Conv2D)    (None, 28, 28, 512)  131584      conv2_block3_out[0][0]           \n",
            "__________________________________________________________________________________________________\n",
            "conv3_block1_3_conv (Conv2D)    (None, 28, 28, 512)  66048       conv3_block1_2_relu[0][0]        \n",
            "__________________________________________________________________________________________________\n",
            "conv3_block1_0_bn (BatchNormali (None, 28, 28, 512)  2048        conv3_block1_0_conv[0][0]        \n",
            "__________________________________________________________________________________________________\n",
            "conv3_block1_3_bn (BatchNormali (None, 28, 28, 512)  2048        conv3_block1_3_conv[0][0]        \n",
            "__________________________________________________________________________________________________\n",
            "conv3_block1_add (Add)          (None, 28, 28, 512)  0           conv3_block1_0_bn[0][0]          \n",
            "                                                                 conv3_block1_3_bn[0][0]          \n",
            "__________________________________________________________________________________________________\n",
            "conv3_block1_out (Activation)   (None, 28, 28, 512)  0           conv3_block1_add[0][0]           \n",
            "__________________________________________________________________________________________________\n",
            "conv3_block2_1_conv (Conv2D)    (None, 28, 28, 128)  65664       conv3_block1_out[0][0]           \n",
            "__________________________________________________________________________________________________\n",
            "conv3_block2_1_bn (BatchNormali (None, 28, 28, 128)  512         conv3_block2_1_conv[0][0]        \n",
            "__________________________________________________________________________________________________\n",
            "conv3_block2_1_relu (Activation (None, 28, 28, 128)  0           conv3_block2_1_bn[0][0]          \n",
            "__________________________________________________________________________________________________\n",
            "conv3_block2_2_conv (Conv2D)    (None, 28, 28, 128)  147584      conv3_block2_1_relu[0][0]        \n",
            "__________________________________________________________________________________________________\n",
            "conv3_block2_2_bn (BatchNormali (None, 28, 28, 128)  512         conv3_block2_2_conv[0][0]        \n",
            "__________________________________________________________________________________________________\n",
            "conv3_block2_2_relu (Activation (None, 28, 28, 128)  0           conv3_block2_2_bn[0][0]          \n",
            "__________________________________________________________________________________________________\n",
            "conv3_block2_3_conv (Conv2D)    (None, 28, 28, 512)  66048       conv3_block2_2_relu[0][0]        \n",
            "__________________________________________________________________________________________________\n",
            "conv3_block2_3_bn (BatchNormali (None, 28, 28, 512)  2048        conv3_block2_3_conv[0][0]        \n",
            "__________________________________________________________________________________________________\n",
            "conv3_block2_add (Add)          (None, 28, 28, 512)  0           conv3_block1_out[0][0]           \n",
            "                                                                 conv3_block2_3_bn[0][0]          \n",
            "__________________________________________________________________________________________________\n",
            "conv3_block2_out (Activation)   (None, 28, 28, 512)  0           conv3_block2_add[0][0]           \n",
            "__________________________________________________________________________________________________\n",
            "conv3_block3_1_conv (Conv2D)    (None, 28, 28, 128)  65664       conv3_block2_out[0][0]           \n",
            "__________________________________________________________________________________________________\n",
            "conv3_block3_1_bn (BatchNormali (None, 28, 28, 128)  512         conv3_block3_1_conv[0][0]        \n",
            "__________________________________________________________________________________________________\n",
            "conv3_block3_1_relu (Activation (None, 28, 28, 128)  0           conv3_block3_1_bn[0][0]          \n",
            "__________________________________________________________________________________________________\n",
            "conv3_block3_2_conv (Conv2D)    (None, 28, 28, 128)  147584      conv3_block3_1_relu[0][0]        \n",
            "__________________________________________________________________________________________________\n",
            "conv3_block3_2_bn (BatchNormali (None, 28, 28, 128)  512         conv3_block3_2_conv[0][0]        \n",
            "__________________________________________________________________________________________________\n",
            "conv3_block3_2_relu (Activation (None, 28, 28, 128)  0           conv3_block3_2_bn[0][0]          \n",
            "__________________________________________________________________________________________________\n",
            "conv3_block3_3_conv (Conv2D)    (None, 28, 28, 512)  66048       conv3_block3_2_relu[0][0]        \n",
            "__________________________________________________________________________________________________\n",
            "conv3_block3_3_bn (BatchNormali (None, 28, 28, 512)  2048        conv3_block3_3_conv[0][0]        \n",
            "__________________________________________________________________________________________________\n",
            "conv3_block3_add (Add)          (None, 28, 28, 512)  0           conv3_block2_out[0][0]           \n",
            "                                                                 conv3_block3_3_bn[0][0]          \n",
            "__________________________________________________________________________________________________\n",
            "conv3_block3_out (Activation)   (None, 28, 28, 512)  0           conv3_block3_add[0][0]           \n",
            "__________________________________________________________________________________________________\n",
            "conv3_block4_1_conv (Conv2D)    (None, 28, 28, 128)  65664       conv3_block3_out[0][0]           \n",
            "__________________________________________________________________________________________________\n",
            "conv3_block4_1_bn (BatchNormali (None, 28, 28, 128)  512         conv3_block4_1_conv[0][0]        \n",
            "__________________________________________________________________________________________________\n",
            "conv3_block4_1_relu (Activation (None, 28, 28, 128)  0           conv3_block4_1_bn[0][0]          \n",
            "__________________________________________________________________________________________________\n",
            "conv3_block4_2_conv (Conv2D)    (None, 28, 28, 128)  147584      conv3_block4_1_relu[0][0]        \n",
            "__________________________________________________________________________________________________\n",
            "conv3_block4_2_bn (BatchNormali (None, 28, 28, 128)  512         conv3_block4_2_conv[0][0]        \n",
            "__________________________________________________________________________________________________\n",
            "conv3_block4_2_relu (Activation (None, 28, 28, 128)  0           conv3_block4_2_bn[0][0]          \n",
            "__________________________________________________________________________________________________\n",
            "conv3_block4_3_conv (Conv2D)    (None, 28, 28, 512)  66048       conv3_block4_2_relu[0][0]        \n",
            "__________________________________________________________________________________________________\n",
            "conv3_block4_3_bn (BatchNormali (None, 28, 28, 512)  2048        conv3_block4_3_conv[0][0]        \n",
            "__________________________________________________________________________________________________\n",
            "conv3_block4_add (Add)          (None, 28, 28, 512)  0           conv3_block3_out[0][0]           \n",
            "                                                                 conv3_block4_3_bn[0][0]          \n",
            "__________________________________________________________________________________________________\n",
            "conv3_block4_out (Activation)   (None, 28, 28, 512)  0           conv3_block4_add[0][0]           \n",
            "__________________________________________________________________________________________________\n",
            "conv4_block1_1_conv (Conv2D)    (None, 14, 14, 256)  131328      conv3_block4_out[0][0]           \n",
            "__________________________________________________________________________________________________\n",
            "conv4_block1_1_bn (BatchNormali (None, 14, 14, 256)  1024        conv4_block1_1_conv[0][0]        \n",
            "__________________________________________________________________________________________________\n",
            "conv4_block1_1_relu (Activation (None, 14, 14, 256)  0           conv4_block1_1_bn[0][0]          \n",
            "__________________________________________________________________________________________________\n",
            "conv4_block1_2_conv (Conv2D)    (None, 14, 14, 256)  590080      conv4_block1_1_relu[0][0]        \n",
            "__________________________________________________________________________________________________\n",
            "conv4_block1_2_bn (BatchNormali (None, 14, 14, 256)  1024        conv4_block1_2_conv[0][0]        \n",
            "__________________________________________________________________________________________________\n",
            "conv4_block1_2_relu (Activation (None, 14, 14, 256)  0           conv4_block1_2_bn[0][0]          \n",
            "__________________________________________________________________________________________________\n",
            "conv4_block1_0_conv (Conv2D)    (None, 14, 14, 1024) 525312      conv3_block4_out[0][0]           \n",
            "__________________________________________________________________________________________________\n",
            "conv4_block1_3_conv (Conv2D)    (None, 14, 14, 1024) 263168      conv4_block1_2_relu[0][0]        \n",
            "__________________________________________________________________________________________________\n",
            "conv4_block1_0_bn (BatchNormali (None, 14, 14, 1024) 4096        conv4_block1_0_conv[0][0]        \n",
            "__________________________________________________________________________________________________\n",
            "conv4_block1_3_bn (BatchNormali (None, 14, 14, 1024) 4096        conv4_block1_3_conv[0][0]        \n",
            "__________________________________________________________________________________________________\n",
            "conv4_block1_add (Add)          (None, 14, 14, 1024) 0           conv4_block1_0_bn[0][0]          \n",
            "                                                                 conv4_block1_3_bn[0][0]          \n",
            "__________________________________________________________________________________________________\n",
            "conv4_block1_out (Activation)   (None, 14, 14, 1024) 0           conv4_block1_add[0][0]           \n",
            "__________________________________________________________________________________________________\n",
            "conv4_block2_1_conv (Conv2D)    (None, 14, 14, 256)  262400      conv4_block1_out[0][0]           \n",
            "__________________________________________________________________________________________________\n",
            "conv4_block2_1_bn (BatchNormali (None, 14, 14, 256)  1024        conv4_block2_1_conv[0][0]        \n",
            "__________________________________________________________________________________________________\n",
            "conv4_block2_1_relu (Activation (None, 14, 14, 256)  0           conv4_block2_1_bn[0][0]          \n",
            "__________________________________________________________________________________________________\n",
            "conv4_block2_2_conv (Conv2D)    (None, 14, 14, 256)  590080      conv4_block2_1_relu[0][0]        \n",
            "__________________________________________________________________________________________________\n",
            "conv4_block2_2_bn (BatchNormali (None, 14, 14, 256)  1024        conv4_block2_2_conv[0][0]        \n",
            "__________________________________________________________________________________________________\n",
            "conv4_block2_2_relu (Activation (None, 14, 14, 256)  0           conv4_block2_2_bn[0][0]          \n",
            "__________________________________________________________________________________________________\n",
            "conv4_block2_3_conv (Conv2D)    (None, 14, 14, 1024) 263168      conv4_block2_2_relu[0][0]        \n",
            "__________________________________________________________________________________________________\n",
            "conv4_block2_3_bn (BatchNormali (None, 14, 14, 1024) 4096        conv4_block2_3_conv[0][0]        \n",
            "__________________________________________________________________________________________________\n",
            "conv4_block2_add (Add)          (None, 14, 14, 1024) 0           conv4_block1_out[0][0]           \n",
            "                                                                 conv4_block2_3_bn[0][0]          \n",
            "__________________________________________________________________________________________________\n",
            "conv4_block2_out (Activation)   (None, 14, 14, 1024) 0           conv4_block2_add[0][0]           \n",
            "__________________________________________________________________________________________________\n",
            "conv4_block3_1_conv (Conv2D)    (None, 14, 14, 256)  262400      conv4_block2_out[0][0]           \n",
            "__________________________________________________________________________________________________\n",
            "conv4_block3_1_bn (BatchNormali (None, 14, 14, 256)  1024        conv4_block3_1_conv[0][0]        \n",
            "__________________________________________________________________________________________________\n",
            "conv4_block3_1_relu (Activation (None, 14, 14, 256)  0           conv4_block3_1_bn[0][0]          \n",
            "__________________________________________________________________________________________________\n",
            "conv4_block3_2_conv (Conv2D)    (None, 14, 14, 256)  590080      conv4_block3_1_relu[0][0]        \n",
            "__________________________________________________________________________________________________\n",
            "conv4_block3_2_bn (BatchNormali (None, 14, 14, 256)  1024        conv4_block3_2_conv[0][0]        \n",
            "__________________________________________________________________________________________________\n",
            "conv4_block3_2_relu (Activation (None, 14, 14, 256)  0           conv4_block3_2_bn[0][0]          \n",
            "__________________________________________________________________________________________________\n",
            "conv4_block3_3_conv (Conv2D)    (None, 14, 14, 1024) 263168      conv4_block3_2_relu[0][0]        \n",
            "__________________________________________________________________________________________________\n",
            "conv4_block3_3_bn (BatchNormali (None, 14, 14, 1024) 4096        conv4_block3_3_conv[0][0]        \n",
            "__________________________________________________________________________________________________\n",
            "conv4_block3_add (Add)          (None, 14, 14, 1024) 0           conv4_block2_out[0][0]           \n",
            "                                                                 conv4_block3_3_bn[0][0]          \n",
            "__________________________________________________________________________________________________\n",
            "conv4_block3_out (Activation)   (None, 14, 14, 1024) 0           conv4_block3_add[0][0]           \n",
            "__________________________________________________________________________________________________\n",
            "conv4_block4_1_conv (Conv2D)    (None, 14, 14, 256)  262400      conv4_block3_out[0][0]           \n",
            "__________________________________________________________________________________________________\n",
            "conv4_block4_1_bn (BatchNormali (None, 14, 14, 256)  1024        conv4_block4_1_conv[0][0]        \n",
            "__________________________________________________________________________________________________\n",
            "conv4_block4_1_relu (Activation (None, 14, 14, 256)  0           conv4_block4_1_bn[0][0]          \n",
            "__________________________________________________________________________________________________\n",
            "conv4_block4_2_conv (Conv2D)    (None, 14, 14, 256)  590080      conv4_block4_1_relu[0][0]        \n",
            "__________________________________________________________________________________________________\n",
            "conv4_block4_2_bn (BatchNormali (None, 14, 14, 256)  1024        conv4_block4_2_conv[0][0]        \n",
            "__________________________________________________________________________________________________\n",
            "conv4_block4_2_relu (Activation (None, 14, 14, 256)  0           conv4_block4_2_bn[0][0]          \n",
            "__________________________________________________________________________________________________\n",
            "conv4_block4_3_conv (Conv2D)    (None, 14, 14, 1024) 263168      conv4_block4_2_relu[0][0]        \n",
            "__________________________________________________________________________________________________\n",
            "conv4_block4_3_bn (BatchNormali (None, 14, 14, 1024) 4096        conv4_block4_3_conv[0][0]        \n",
            "__________________________________________________________________________________________________\n",
            "conv4_block4_add (Add)          (None, 14, 14, 1024) 0           conv4_block3_out[0][0]           \n",
            "                                                                 conv4_block4_3_bn[0][0]          \n",
            "__________________________________________________________________________________________________\n",
            "conv4_block4_out (Activation)   (None, 14, 14, 1024) 0           conv4_block4_add[0][0]           \n",
            "__________________________________________________________________________________________________\n",
            "conv4_block5_1_conv (Conv2D)    (None, 14, 14, 256)  262400      conv4_block4_out[0][0]           \n",
            "__________________________________________________________________________________________________\n",
            "conv4_block5_1_bn (BatchNormali (None, 14, 14, 256)  1024        conv4_block5_1_conv[0][0]        \n",
            "__________________________________________________________________________________________________\n",
            "conv4_block5_1_relu (Activation (None, 14, 14, 256)  0           conv4_block5_1_bn[0][0]          \n",
            "__________________________________________________________________________________________________\n",
            "conv4_block5_2_conv (Conv2D)    (None, 14, 14, 256)  590080      conv4_block5_1_relu[0][0]        \n",
            "__________________________________________________________________________________________________\n",
            "conv4_block5_2_bn (BatchNormali (None, 14, 14, 256)  1024        conv4_block5_2_conv[0][0]        \n",
            "__________________________________________________________________________________________________\n",
            "conv4_block5_2_relu (Activation (None, 14, 14, 256)  0           conv4_block5_2_bn[0][0]          \n",
            "__________________________________________________________________________________________________\n",
            "conv4_block5_3_conv (Conv2D)    (None, 14, 14, 1024) 263168      conv4_block5_2_relu[0][0]        \n",
            "__________________________________________________________________________________________________\n",
            "conv4_block5_3_bn (BatchNormali (None, 14, 14, 1024) 4096        conv4_block5_3_conv[0][0]        \n",
            "__________________________________________________________________________________________________\n",
            "conv4_block5_add (Add)          (None, 14, 14, 1024) 0           conv4_block4_out[0][0]           \n",
            "                                                                 conv4_block5_3_bn[0][0]          \n",
            "__________________________________________________________________________________________________\n",
            "conv4_block5_out (Activation)   (None, 14, 14, 1024) 0           conv4_block5_add[0][0]           \n",
            "__________________________________________________________________________________________________\n",
            "conv4_block6_1_conv (Conv2D)    (None, 14, 14, 256)  262400      conv4_block5_out[0][0]           \n",
            "__________________________________________________________________________________________________\n",
            "conv4_block6_1_bn (BatchNormali (None, 14, 14, 256)  1024        conv4_block6_1_conv[0][0]        \n",
            "__________________________________________________________________________________________________\n",
            "conv4_block6_1_relu (Activation (None, 14, 14, 256)  0           conv4_block6_1_bn[0][0]          \n",
            "__________________________________________________________________________________________________\n",
            "conv4_block6_2_conv (Conv2D)    (None, 14, 14, 256)  590080      conv4_block6_1_relu[0][0]        \n",
            "__________________________________________________________________________________________________\n",
            "conv4_block6_2_bn (BatchNormali (None, 14, 14, 256)  1024        conv4_block6_2_conv[0][0]        \n",
            "__________________________________________________________________________________________________\n",
            "conv4_block6_2_relu (Activation (None, 14, 14, 256)  0           conv4_block6_2_bn[0][0]          \n",
            "__________________________________________________________________________________________________\n",
            "conv4_block6_3_conv (Conv2D)    (None, 14, 14, 1024) 263168      conv4_block6_2_relu[0][0]        \n",
            "__________________________________________________________________________________________________\n",
            "conv4_block6_3_bn (BatchNormali (None, 14, 14, 1024) 4096        conv4_block6_3_conv[0][0]        \n",
            "__________________________________________________________________________________________________\n",
            "conv4_block6_add (Add)          (None, 14, 14, 1024) 0           conv4_block5_out[0][0]           \n",
            "                                                                 conv4_block6_3_bn[0][0]          \n",
            "__________________________________________________________________________________________________\n",
            "conv4_block6_out (Activation)   (None, 14, 14, 1024) 0           conv4_block6_add[0][0]           \n",
            "__________________________________________________________________________________________________\n",
            "conv5_block1_1_conv (Conv2D)    (None, 7, 7, 512)    524800      conv4_block6_out[0][0]           \n",
            "__________________________________________________________________________________________________\n",
            "conv5_block1_1_bn (BatchNormali (None, 7, 7, 512)    2048        conv5_block1_1_conv[0][0]        \n",
            "__________________________________________________________________________________________________\n",
            "conv5_block1_1_relu (Activation (None, 7, 7, 512)    0           conv5_block1_1_bn[0][0]          \n",
            "__________________________________________________________________________________________________\n",
            "conv5_block1_2_conv (Conv2D)    (None, 7, 7, 512)    2359808     conv5_block1_1_relu[0][0]        \n",
            "__________________________________________________________________________________________________\n",
            "conv5_block1_2_bn (BatchNormali (None, 7, 7, 512)    2048        conv5_block1_2_conv[0][0]        \n",
            "__________________________________________________________________________________________________\n",
            "conv5_block1_2_relu (Activation (None, 7, 7, 512)    0           conv5_block1_2_bn[0][0]          \n",
            "__________________________________________________________________________________________________\n",
            "conv5_block1_0_conv (Conv2D)    (None, 7, 7, 2048)   2099200     conv4_block6_out[0][0]           \n",
            "__________________________________________________________________________________________________\n",
            "conv5_block1_3_conv (Conv2D)    (None, 7, 7, 2048)   1050624     conv5_block1_2_relu[0][0]        \n",
            "__________________________________________________________________________________________________\n",
            "conv5_block1_0_bn (BatchNormali (None, 7, 7, 2048)   8192        conv5_block1_0_conv[0][0]        \n",
            "__________________________________________________________________________________________________\n",
            "conv5_block1_3_bn (BatchNormali (None, 7, 7, 2048)   8192        conv5_block1_3_conv[0][0]        \n",
            "__________________________________________________________________________________________________\n",
            "conv5_block1_add (Add)          (None, 7, 7, 2048)   0           conv5_block1_0_bn[0][0]          \n",
            "                                                                 conv5_block1_3_bn[0][0]          \n",
            "__________________________________________________________________________________________________\n",
            "conv5_block1_out (Activation)   (None, 7, 7, 2048)   0           conv5_block1_add[0][0]           \n",
            "__________________________________________________________________________________________________\n",
            "conv5_block2_1_conv (Conv2D)    (None, 7, 7, 512)    1049088     conv5_block1_out[0][0]           \n",
            "__________________________________________________________________________________________________\n",
            "conv5_block2_1_bn (BatchNormali (None, 7, 7, 512)    2048        conv5_block2_1_conv[0][0]        \n",
            "__________________________________________________________________________________________________\n",
            "conv5_block2_1_relu (Activation (None, 7, 7, 512)    0           conv5_block2_1_bn[0][0]          \n",
            "__________________________________________________________________________________________________\n",
            "conv5_block2_2_conv (Conv2D)    (None, 7, 7, 512)    2359808     conv5_block2_1_relu[0][0]        \n",
            "__________________________________________________________________________________________________\n",
            "conv5_block2_2_bn (BatchNormali (None, 7, 7, 512)    2048        conv5_block2_2_conv[0][0]        \n",
            "__________________________________________________________________________________________________\n",
            "conv5_block2_2_relu (Activation (None, 7, 7, 512)    0           conv5_block2_2_bn[0][0]          \n",
            "__________________________________________________________________________________________________\n",
            "conv5_block2_3_conv (Conv2D)    (None, 7, 7, 2048)   1050624     conv5_block2_2_relu[0][0]        \n",
            "__________________________________________________________________________________________________\n",
            "conv5_block2_3_bn (BatchNormali (None, 7, 7, 2048)   8192        conv5_block2_3_conv[0][0]        \n",
            "__________________________________________________________________________________________________\n",
            "conv5_block2_add (Add)          (None, 7, 7, 2048)   0           conv5_block1_out[0][0]           \n",
            "                                                                 conv5_block2_3_bn[0][0]          \n",
            "__________________________________________________________________________________________________\n",
            "conv5_block2_out (Activation)   (None, 7, 7, 2048)   0           conv5_block2_add[0][0]           \n",
            "__________________________________________________________________________________________________\n",
            "conv5_block3_1_conv (Conv2D)    (None, 7, 7, 512)    1049088     conv5_block2_out[0][0]           \n",
            "__________________________________________________________________________________________________\n",
            "conv5_block3_1_bn (BatchNormali (None, 7, 7, 512)    2048        conv5_block3_1_conv[0][0]        \n",
            "__________________________________________________________________________________________________\n",
            "conv5_block3_1_relu (Activation (None, 7, 7, 512)    0           conv5_block3_1_bn[0][0]          \n",
            "__________________________________________________________________________________________________\n",
            "conv5_block3_2_conv (Conv2D)    (None, 7, 7, 512)    2359808     conv5_block3_1_relu[0][0]        \n",
            "__________________________________________________________________________________________________\n",
            "conv5_block3_2_bn (BatchNormali (None, 7, 7, 512)    2048        conv5_block3_2_conv[0][0]        \n",
            "__________________________________________________________________________________________________\n",
            "conv5_block3_2_relu (Activation (None, 7, 7, 512)    0           conv5_block3_2_bn[0][0]          \n",
            "__________________________________________________________________________________________________\n",
            "conv5_block3_3_conv (Conv2D)    (None, 7, 7, 2048)   1050624     conv5_block3_2_relu[0][0]        \n",
            "__________________________________________________________________________________________________\n",
            "conv5_block3_3_bn (BatchNormali (None, 7, 7, 2048)   8192        conv5_block3_3_conv[0][0]        \n",
            "__________________________________________________________________________________________________\n",
            "conv5_block3_add (Add)          (None, 7, 7, 2048)   0           conv5_block2_out[0][0]           \n",
            "                                                                 conv5_block3_3_bn[0][0]          \n",
            "__________________________________________________________________________________________________\n",
            "conv5_block3_out (Activation)   (None, 7, 7, 2048)   0           conv5_block3_add[0][0]           \n",
            "__________________________________________________________________________________________________\n",
            "flatten (Flatten)               (None, 100352)       0           conv5_block3_out[0][0]           \n",
            "__________________________________________________________________________________________________\n",
            "dense (Dense)                   (None, 2)            200706      flatten[0][0]                    \n",
            "==================================================================================================\n",
            "Total params: 23,788,418\n",
            "Trainable params: 200,706\n",
            "Non-trainable params: 23,587,712\n",
            "__________________________________________________________________________________________________\n"
          ],
          "name": "stdout"
        }
      ]
    },
    {
      "cell_type": "markdown",
      "metadata": {
        "id": "3Dr_NjgDlITP",
        "colab_type": "text"
      },
      "source": [
        "* From the above summary we can see that we have added our first input layer and the last layer with 2 nodes."
      ]
    },
    {
      "cell_type": "markdown",
      "metadata": {
        "id": "lnKncY2plKqe",
        "colab_type": "text"
      },
      "source": [
        "## Compling Our Model"
      ]
    },
    {
      "cell_type": "code",
      "metadata": {
        "id": "EmC2qw7y4SFx",
        "colab_type": "code",
        "colab": {}
      },
      "source": [
        "model.compile(loss = 'categorical_crossentropy', optimizer='adam', metrics=['accuracy'])"
      ],
      "execution_count": 14,
      "outputs": []
    },
    {
      "cell_type": "markdown",
      "metadata": {
        "id": "gBsBk6T7lPb6",
        "colab_type": "text"
      },
      "source": [
        "* Now we need to read all the images from the folder.\n",
        "* When we'll be reading the data from the folders we also need to make sure that we need to do some Data Augmentation.\n",
        "* The Data Augmentation can be done by using ImageDataGenerator library.\n",
        "* The ImageDataGenerator what is does that it applies the Data Augmentation techniques like zooming, scaling, horizontal flipping, vertical flipping, etc.\n",
        "* IN THE TEST DATA WE SHOULD NEVER PERFORM DATA AUGMENTATION WE SHOULD ONLY PERFORM SCALING"
      ]
    },
    {
      "cell_type": "code",
      "metadata": {
        "id": "G4lMWXCO4qbH",
        "colab_type": "code",
        "colab": {}
      },
      "source": [
        "# Scaling all the images between 0 to 1\n",
        "\n",
        "train_datagen = ImageDataGenerator(rescale = 1./255, shear_range=0.2, zoom_range=0.2, horizontal_flip=False)\n",
        "\n",
        "# Performing only scaling on the test dataset\n",
        "\n",
        "test_datagen = ImageDataGenerator(rescale=1./255)"
      ],
      "execution_count": 15,
      "outputs": []
    },
    {
      "cell_type": "markdown",
      "metadata": {
        "id": "ow0hE-oHlkFX",
        "colab_type": "text"
      },
      "source": [
        "* flow_from_directory means i am applying all the train_datagen techniques to all the images\n",
        "* We need to provide the same traget_size as initialized in the IMAGE_SIZE\n",
        "* If you have more than two classes we should use class_mode = categorical\n",
        "* But if we have just two classses we can use class_mode = binary"
      ]
    },
    {
      "cell_type": "code",
      "metadata": {
        "id": "PbX0n6wV7rng",
        "colab_type": "code",
        "colab": {
          "base_uri": "https://localhost:8080/",
          "height": 34
        },
        "outputId": "806ef0aa-bfb6-4548-b6ee-0a2f292b2789"
      },
      "source": [
        "# flow_from_directory means i am applying all the train_datagen techniques to all the images\n",
        "# We need to provide the same traget_size as initialized in the IMAGE_SIZE\n",
        "# If you have more than two classes we should use class_mode = categorical\n",
        "# But if we have just two classses we can use class_mode = binary\n",
        "\n",
        "train_set = train_datagen.flow_from_directory('/content/gdrive/My Drive/Colab Notebooks/Covid Chest X-ray/Data Set/Train',\n",
        "                                              target_size=(224,224),\n",
        "                                              batch_size=32,\n",
        "                                              class_mode = 'categorical')"
      ],
      "execution_count": 17,
      "outputs": [
        {
          "output_type": "stream",
          "text": [
            "Found 450 images belonging to 2 classes.\n"
          ],
          "name": "stdout"
        }
      ]
    },
    {
      "cell_type": "code",
      "metadata": {
        "id": "_2YjuiTqUFk-",
        "colab_type": "code",
        "colab": {
          "base_uri": "https://localhost:8080/",
          "height": 34
        },
        "outputId": "63596b8f-5669-480c-b746-518941e76a35"
      },
      "source": [
        "# Applying the same techniques on the test dataset\n",
        "\n",
        "test_set = test_datagen.flow_from_directory('/content/gdrive/My Drive/Colab Notebooks/Covid Chest X-ray/Data Set/Test',\n",
        "                                            target_size=(224,224),\n",
        "                                            batch_size=32,\n",
        "                                            class_mode='categorical')"
      ],
      "execution_count": 18,
      "outputs": [
        {
          "output_type": "stream",
          "text": [
            "Found 220 images belonging to 2 classes.\n"
          ],
          "name": "stdout"
        }
      ]
    },
    {
      "cell_type": "markdown",
      "metadata": {
        "id": "CX7YxCYBltrE",
        "colab_type": "text"
      },
      "source": [
        "## Fitting Our Model"
      ]
    },
    {
      "cell_type": "code",
      "metadata": {
        "id": "Tw5r6sTVUS0C",
        "colab_type": "code",
        "colab": {
          "base_uri": "https://localhost:8080/",
          "height": 1000
        },
        "outputId": "93383044-b8cd-4f0e-d970-b66fbcfde703"
      },
      "source": [
        "r = model.fit_generator(train_set, validation_data=test_set, epochs=50, steps_per_epoch=len(train_set), validation_steps=len(test_set))"
      ],
      "execution_count": 19,
      "outputs": [
        {
          "output_type": "stream",
          "text": [
            "WARNING:tensorflow:From <ipython-input-19-9d5394520b35>:1: Model.fit_generator (from tensorflow.python.keras.engine.training) is deprecated and will be removed in a future version.\n",
            "Instructions for updating:\n",
            "Please use Model.fit, which supports generators.\n",
            "Epoch 1/50\n",
            "15/15 [==============================] - 213s 14s/step - loss: 3.8310 - accuracy: 0.5311 - val_loss: 4.6565 - val_accuracy: 0.4545\n",
            "Epoch 2/50\n",
            "15/15 [==============================] - 16s 1s/step - loss: 1.6795 - accuracy: 0.5556 - val_loss: 0.4968 - val_accuracy: 0.7545\n",
            "Epoch 3/50\n",
            "15/15 [==============================] - 15s 1s/step - loss: 0.6156 - accuracy: 0.7400 - val_loss: 0.8619 - val_accuracy: 0.5909\n",
            "Epoch 4/50\n",
            "15/15 [==============================] - 15s 994ms/step - loss: 0.8627 - accuracy: 0.6756 - val_loss: 0.4670 - val_accuracy: 0.7955\n",
            "Epoch 5/50\n",
            "15/15 [==============================] - 16s 1s/step - loss: 0.4989 - accuracy: 0.7711 - val_loss: 1.1991 - val_accuracy: 0.6318\n",
            "Epoch 6/50\n",
            "15/15 [==============================] - 15s 994ms/step - loss: 0.5186 - accuracy: 0.7844 - val_loss: 0.6699 - val_accuracy: 0.7227\n",
            "Epoch 7/50\n",
            "15/15 [==============================] - 15s 1s/step - loss: 0.2860 - accuracy: 0.8844 - val_loss: 0.5155 - val_accuracy: 0.8000\n",
            "Epoch 8/50\n",
            "15/15 [==============================] - 15s 987ms/step - loss: 0.2560 - accuracy: 0.8911 - val_loss: 0.4473 - val_accuracy: 0.8091\n",
            "Epoch 9/50\n",
            "15/15 [==============================] - 15s 993ms/step - loss: 0.2378 - accuracy: 0.9000 - val_loss: 0.6762 - val_accuracy: 0.7409\n",
            "Epoch 10/50\n",
            "15/15 [==============================] - 15s 998ms/step - loss: 0.2517 - accuracy: 0.8978 - val_loss: 0.4251 - val_accuracy: 0.8182\n",
            "Epoch 11/50\n",
            "15/15 [==============================] - 15s 1s/step - loss: 0.3291 - accuracy: 0.8556 - val_loss: 0.5291 - val_accuracy: 0.7818\n",
            "Epoch 12/50\n",
            "15/15 [==============================] - 15s 996ms/step - loss: 0.1999 - accuracy: 0.9222 - val_loss: 0.4233 - val_accuracy: 0.8227\n",
            "Epoch 13/50\n",
            "15/15 [==============================] - 15s 993ms/step - loss: 0.2280 - accuracy: 0.8956 - val_loss: 0.7028 - val_accuracy: 0.7091\n",
            "Epoch 14/50\n",
            "15/15 [==============================] - 15s 999ms/step - loss: 0.2441 - accuracy: 0.8911 - val_loss: 0.4778 - val_accuracy: 0.8091\n",
            "Epoch 15/50\n",
            "15/15 [==============================] - 16s 1s/step - loss: 0.5114 - accuracy: 0.7956 - val_loss: 0.4275 - val_accuracy: 0.8318\n",
            "Epoch 16/50\n",
            "15/15 [==============================] - 15s 1000ms/step - loss: 0.2151 - accuracy: 0.9178 - val_loss: 0.4104 - val_accuracy: 0.8182\n",
            "Epoch 17/50\n",
            "15/15 [==============================] - 15s 1s/step - loss: 0.1917 - accuracy: 0.9378 - val_loss: 0.4761 - val_accuracy: 0.7864\n",
            "Epoch 18/50\n",
            "15/15 [==============================] - 15s 1s/step - loss: 0.2751 - accuracy: 0.8756 - val_loss: 0.7478 - val_accuracy: 0.7136\n",
            "Epoch 19/50\n",
            "15/15 [==============================] - 16s 1s/step - loss: 0.3690 - accuracy: 0.8600 - val_loss: 0.5703 - val_accuracy: 0.8000\n",
            "Epoch 20/50\n",
            "15/15 [==============================] - 15s 1s/step - loss: 0.2609 - accuracy: 0.8844 - val_loss: 0.7879 - val_accuracy: 0.7318\n",
            "Epoch 21/50\n",
            "15/15 [==============================] - 15s 1s/step - loss: 0.2522 - accuracy: 0.8911 - val_loss: 0.6101 - val_accuracy: 0.7773\n",
            "Epoch 22/50\n",
            "15/15 [==============================] - 15s 1s/step - loss: 0.1847 - accuracy: 0.9178 - val_loss: 0.4617 - val_accuracy: 0.8318\n",
            "Epoch 23/50\n",
            "15/15 [==============================] - 16s 1s/step - loss: 0.1520 - accuracy: 0.9200 - val_loss: 0.4513 - val_accuracy: 0.8273\n",
            "Epoch 24/50\n",
            "15/15 [==============================] - 15s 1s/step - loss: 0.1580 - accuracy: 0.9400 - val_loss: 0.4173 - val_accuracy: 0.8273\n",
            "Epoch 25/50\n",
            "15/15 [==============================] - 15s 1s/step - loss: 0.1287 - accuracy: 0.9533 - val_loss: 0.4044 - val_accuracy: 0.8227\n",
            "Epoch 26/50\n",
            "15/15 [==============================] - 15s 1s/step - loss: 0.1822 - accuracy: 0.9289 - val_loss: 0.5625 - val_accuracy: 0.7773\n",
            "Epoch 27/50\n",
            "15/15 [==============================] - 15s 1s/step - loss: 0.2243 - accuracy: 0.8933 - val_loss: 0.9552 - val_accuracy: 0.7045\n",
            "Epoch 28/50\n",
            "15/15 [==============================] - 15s 991ms/step - loss: 0.5487 - accuracy: 0.7867 - val_loss: 0.8266 - val_accuracy: 0.7455\n",
            "Epoch 29/50\n",
            "15/15 [==============================] - 15s 1s/step - loss: 0.2638 - accuracy: 0.9067 - val_loss: 0.8456 - val_accuracy: 0.7455\n",
            "Epoch 30/50\n",
            "15/15 [==============================] - 15s 1s/step - loss: 0.1774 - accuracy: 0.9222 - val_loss: 0.4348 - val_accuracy: 0.8227\n",
            "Epoch 31/50\n",
            "15/15 [==============================] - 15s 1s/step - loss: 0.1261 - accuracy: 0.9489 - val_loss: 0.4357 - val_accuracy: 0.8318\n",
            "Epoch 32/50\n",
            "15/15 [==============================] - 15s 1s/step - loss: 0.1145 - accuracy: 0.9467 - val_loss: 0.4129 - val_accuracy: 0.8318\n",
            "Epoch 33/50\n",
            "15/15 [==============================] - 15s 1s/step - loss: 0.1462 - accuracy: 0.9400 - val_loss: 0.5511 - val_accuracy: 0.7818\n",
            "Epoch 34/50\n",
            "15/15 [==============================] - 15s 1s/step - loss: 0.1518 - accuracy: 0.9356 - val_loss: 1.6035 - val_accuracy: 0.5773\n",
            "Epoch 35/50\n",
            "15/15 [==============================] - 15s 1s/step - loss: 0.3342 - accuracy: 0.8533 - val_loss: 0.6200 - val_accuracy: 0.7864\n",
            "Epoch 36/50\n",
            "15/15 [==============================] - 15s 1s/step - loss: 0.1210 - accuracy: 0.9533 - val_loss: 0.4169 - val_accuracy: 0.8545\n",
            "Epoch 37/50\n",
            "15/15 [==============================] - 15s 996ms/step - loss: 0.1207 - accuracy: 0.9578 - val_loss: 0.4687 - val_accuracy: 0.8227\n",
            "Epoch 38/50\n",
            "15/15 [==============================] - 15s 1s/step - loss: 0.1245 - accuracy: 0.9578 - val_loss: 0.4635 - val_accuracy: 0.8136\n",
            "Epoch 39/50\n",
            "15/15 [==============================] - 15s 1s/step - loss: 0.1729 - accuracy: 0.9400 - val_loss: 0.4717 - val_accuracy: 0.8091\n",
            "Epoch 40/50\n",
            "15/15 [==============================] - 15s 1s/step - loss: 0.3274 - accuracy: 0.8689 - val_loss: 0.8880 - val_accuracy: 0.7500\n",
            "Epoch 41/50\n",
            "15/15 [==============================] - 15s 992ms/step - loss: 0.3371 - accuracy: 0.8733 - val_loss: 0.4670 - val_accuracy: 0.8318\n",
            "Epoch 42/50\n",
            "15/15 [==============================] - 15s 1s/step - loss: 0.3028 - accuracy: 0.8800 - val_loss: 0.8255 - val_accuracy: 0.7545\n",
            "Epoch 43/50\n",
            "15/15 [==============================] - 15s 991ms/step - loss: 0.1178 - accuracy: 0.9556 - val_loss: 0.4283 - val_accuracy: 0.8500\n",
            "Epoch 44/50\n",
            "15/15 [==============================] - 15s 980ms/step - loss: 0.0989 - accuracy: 0.9667 - val_loss: 0.5406 - val_accuracy: 0.8227\n",
            "Epoch 45/50\n",
            "15/15 [==============================] - 15s 1s/step - loss: 0.1036 - accuracy: 0.9600 - val_loss: 0.4363 - val_accuracy: 0.8455\n",
            "Epoch 46/50\n",
            "15/15 [==============================] - 15s 982ms/step - loss: 0.1240 - accuracy: 0.9578 - val_loss: 0.4887 - val_accuracy: 0.8364\n",
            "Epoch 47/50\n",
            "15/15 [==============================] - 15s 974ms/step - loss: 0.1261 - accuracy: 0.9533 - val_loss: 0.7149 - val_accuracy: 0.7727\n",
            "Epoch 48/50\n",
            "15/15 [==============================] - 15s 1s/step - loss: 0.1496 - accuracy: 0.9422 - val_loss: 0.4869 - val_accuracy: 0.8182\n",
            "Epoch 49/50\n",
            "15/15 [==============================] - 15s 1s/step - loss: 0.3829 - accuracy: 0.8578 - val_loss: 0.4103 - val_accuracy: 0.8545\n",
            "Epoch 50/50\n",
            "15/15 [==============================] - 15s 991ms/step - loss: 0.1810 - accuracy: 0.9267 - val_loss: 0.6655 - val_accuracy: 0.7818\n"
          ],
          "name": "stdout"
        }
      ]
    },
    {
      "cell_type": "markdown",
      "metadata": {
        "id": "prcc9E78dZtm",
        "colab_type": "text"
      },
      "source": [
        "* If your accuracy=100% and your validation accuracy < 50% that means your model is overfitting.\n",
        "* validation loss if for the test data"
      ]
    },
    {
      "cell_type": "markdown",
      "metadata": {
        "id": "WSUL3a7ldfut",
        "colab_type": "text"
      },
      "source": [
        "## Plotting the losses and Accuracy on the dataset"
      ]
    },
    {
      "cell_type": "code",
      "metadata": {
        "id": "aGGKk-g4ddCh",
        "colab_type": "code",
        "colab": {
          "base_uri": "https://localhost:8080/",
          "height": 461
        },
        "outputId": "03bb73f8-7088-4f91-8eb7-6110c587b9ef"
      },
      "source": [
        "plt.figure(figsize=(10,7))\n",
        "plt.plot(r.history['loss'], label='train loss')\n",
        "plt.plot(r.history['val_loss'], label='val loss')\n",
        "plt.plot(r.history['accuracy'], label='train_acc')\n",
        "plt.plot(r.history['val_accuracy'], label='val_acc')\n",
        "plt.title(\"Training Loss and Accuracy on COVID-19 Dataset\")\n",
        "plt.legend()\n",
        "plt.show()\n",
        "plt.savefig('lossval_loss')"
      ],
      "execution_count": 20,
      "outputs": [
        {
          "output_type": "display_data",
          "data": {
            "image/png": "[encoded data removed]",
            "text/plain": [
              "<Figure size 720x504 with 1 Axes>"
            ]
          },
          "metadata": {
            "tags": [],
            "needs_background": "light"
          }
        },
        {
          "output_type": "display_data",
          "data": {
            "text/plain": [
              "<Figure size 432x288 with 0 Axes>"
            ]
          },
          "metadata": {
            "tags": []
          }
        }
      ]
    },
    {
      "cell_type": "markdown",
      "metadata": {
        "id": "o-vRSVyUdw2g",
        "colab_type": "text"
      },
      "source": [
        "## Saving The H5 Format File"
      ]
    },
    {
      "cell_type": "code",
      "metadata": {
        "id": "tKZ715JQd6OO",
        "colab_type": "code",
        "colab": {}
      },
      "source": [
        "from tensorflow.keras.models import load_model\n",
        "\n",
        "model.save('Covid Chest X-Ray Model.h5')"
      ],
      "execution_count": 21,
      "outputs": []
    },
    {
      "cell_type": "markdown",
      "metadata": {
        "id": "yiJLeNR9eUVG",
        "colab_type": "text"
      },
      "source": [
        "## Predicting Our Model"
      ]
    },
    {
      "cell_type": "code",
      "metadata": {
        "id": "zemcDupKeYGe",
        "colab_type": "code",
        "colab": {
          "base_uri": "https://localhost:8080/",
          "height": 1000
        },
        "outputId": "5bc37c5a-907d-45d7-c4b3-7c8074d3f164"
      },
      "source": [
        "pred=model.predict(test_set)\n",
        "pred"
      ],
      "execution_count": 22,
      "outputs": [
        {
          "output_type": "execute_result",
          "data": {
            "text/plain": [
              "array([[1.41947148e-02, 9.85805333e-01],\n",
              "       [8.55063200e-02, 9.14493740e-01],\n",
              "       [5.38452715e-03, 9.94615495e-01],\n",
              "       [7.76443921e-04, 9.99223590e-01],\n",
              "       [2.20371649e-01, 7.79628396e-01],\n",
              "       [1.68763218e-05, 9.99983072e-01],\n",
              "       [1.84513061e-04, 9.99815524e-01],\n",
              "       [1.29087925e-01, 8.70912135e-01],\n",
              "       [9.99376833e-01, 6.23216329e-04],\n",
              "       [9.95494485e-01, 4.50552627e-03],\n",
              "       [7.74282664e-02, 9.22571719e-01],\n",
              "       [1.54387534e-01, 8.45612526e-01],\n",
              "       [9.99365866e-01, 6.34185271e-04],\n",
              "       [9.51743364e-01, 4.82566543e-02],\n",
              "       [9.99704540e-01, 2.95458653e-04],\n",
              "       [9.99870300e-01, 1.29738313e-04],\n",
              "       [9.99326706e-01, 6.73282542e-04],\n",
              "       [9.92656231e-01, 7.34384498e-03],\n",
              "       [9.92148101e-01, 7.85189401e-03],\n",
              "       [3.33105636e-05, 9.99966741e-01],\n",
              "       [9.97701466e-01, 2.29856791e-03],\n",
              "       [8.40565562e-01, 1.59434468e-01],\n",
              "       [9.81544137e-01, 1.84558239e-02],\n",
              "       [3.55076604e-03, 9.96449232e-01],\n",
              "       [9.97450411e-01, 2.54952349e-03],\n",
              "       [9.61652771e-02, 9.03834760e-01],\n",
              "       [4.28779572e-01, 5.71220458e-01],\n",
              "       [1.22124687e-01, 8.77875328e-01],\n",
              "       [9.70766723e-01, 2.92332359e-02],\n",
              "       [9.97084200e-01, 2.91583850e-03],\n",
              "       [9.99863148e-01, 1.36798204e-04],\n",
              "       [9.01637971e-02, 9.09836233e-01],\n",
              "       [1.88590698e-02, 9.81140971e-01],\n",
              "       [2.77054131e-01, 7.22945809e-01],\n",
              "       [9.68415618e-01, 3.15843858e-02],\n",
              "       [3.51144284e-01, 6.48855746e-01],\n",
              "       [3.20571380e-05, 9.99967933e-01],\n",
              "       [5.82340363e-05, 9.99941707e-01],\n",
              "       [9.77378488e-01, 2.26214752e-02],\n",
              "       [9.90563154e-01, 9.43681505e-03],\n",
              "       [5.78833520e-02, 9.42116678e-01],\n",
              "       [9.83489633e-01, 1.65103991e-02],\n",
              "       [9.97313917e-01, 2.68609286e-03],\n",
              "       [9.94266212e-01, 5.73381735e-03],\n",
              "       [9.90665317e-01, 9.33474023e-03],\n",
              "       [1.09213463e-04, 9.99890804e-01],\n",
              "       [8.19282830e-01, 1.80717215e-01],\n",
              "       [9.98366058e-01, 1.63394981e-03],\n",
              "       [9.76411402e-01, 2.35886406e-02],\n",
              "       [9.93978739e-01, 6.02125237e-03],\n",
              "       [9.68835413e-01, 3.11646573e-02],\n",
              "       [9.92531240e-01, 7.46879354e-03],\n",
              "       [9.21898901e-01, 7.81010911e-02],\n",
              "       [9.99908209e-01, 9.18071382e-05],\n",
              "       [9.91036892e-01, 8.96306708e-03],\n",
              "       [9.99946117e-01, 5.39156754e-05],\n",
              "       [9.99294281e-01, 7.05702114e-04],\n",
              "       [6.50340974e-01, 3.49658996e-01],\n",
              "       [1.13854073e-01, 8.86145890e-01],\n",
              "       [4.55017239e-02, 9.54498291e-01],\n",
              "       [8.10319260e-02, 9.18968081e-01],\n",
              "       [2.26841727e-03, 9.97731626e-01],\n",
              "       [9.04890597e-01, 9.51094627e-02],\n",
              "       [9.92452562e-01, 7.54739763e-03],\n",
              "       [4.75294190e-04, 9.99524713e-01],\n",
              "       [9.57462132e-01, 4.25378419e-02],\n",
              "       [2.23767400e-01, 7.76232660e-01],\n",
              "       [9.99928594e-01, 7.13900008e-05],\n",
              "       [9.99963641e-01, 3.63674953e-05],\n",
              "       [3.49711716e-01, 6.50288284e-01],\n",
              "       [9.86083686e-01, 1.39163360e-02],\n",
              "       [9.76615548e-01, 2.33844612e-02],\n",
              "       [5.59055014e-03, 9.94409382e-01],\n",
              "       [3.72055382e-03, 9.96279418e-01],\n",
              "       [9.99995947e-01, 4.08298547e-06],\n",
              "       [9.99744475e-01, 2.55480700e-04],\n",
              "       [3.73715878e-01, 6.26284063e-01],\n",
              "       [9.61960614e-01, 3.80394012e-02],\n",
              "       [9.98295248e-01, 1.70474919e-03],\n",
              "       [9.31161344e-01, 6.88386485e-02],\n",
              "       [9.99837637e-01, 1.62396173e-04],\n",
              "       [9.79614079e-01, 2.03859042e-02],\n",
              "       [9.84093189e-01, 1.59068089e-02],\n",
              "       [1.20333862e-03, 9.98796701e-01],\n",
              "       [9.99481857e-01, 5.18132816e-04],\n",
              "       [4.37050685e-02, 9.56294954e-01],\n",
              "       [9.97299373e-01, 2.70065083e-03],\n",
              "       [2.79595284e-03, 9.97204065e-01],\n",
              "       [2.49817094e-05, 9.99974966e-01],\n",
              "       [7.68278316e-02, 9.23172176e-01],\n",
              "       [9.90841269e-01, 9.15868953e-03],\n",
              "       [7.24026561e-01, 2.75973409e-01],\n",
              "       [8.66663873e-01, 1.33336142e-01],\n",
              "       [5.80390394e-01, 4.19609606e-01],\n",
              "       [9.45524275e-01, 5.44757508e-02],\n",
              "       [9.99692798e-01, 3.07173788e-04],\n",
              "       [9.91759360e-01, 8.24061316e-03],\n",
              "       [3.95765062e-03, 9.96042371e-01],\n",
              "       [4.51084725e-06, 9.99995470e-01],\n",
              "       [9.99709427e-01, 2.90575554e-04],\n",
              "       [8.97015989e-01, 1.02984026e-01],\n",
              "       [9.98596728e-01, 1.40326587e-03],\n",
              "       [9.37631071e-01, 6.23689219e-02],\n",
              "       [2.54006147e-01, 7.45993912e-01],\n",
              "       [1.60097450e-01, 8.39902520e-01],\n",
              "       [3.45579311e-02, 9.65442002e-01],\n",
              "       [9.99835968e-01, 1.64059791e-04],\n",
              "       [2.52046362e-02, 9.74795341e-01],\n",
              "       [9.92353499e-01, 7.64650665e-03],\n",
              "       [1.97599798e-01, 8.02400231e-01],\n",
              "       [3.10301621e-05, 9.99969006e-01],\n",
              "       [3.76868472e-02, 9.62313175e-01],\n",
              "       [3.77825387e-02, 9.62217450e-01],\n",
              "       [6.29497692e-03, 9.93704975e-01],\n",
              "       [5.93651831e-01, 4.06348169e-01],\n",
              "       [2.37800018e-03, 9.97621953e-01],\n",
              "       [9.99801219e-01, 1.98768961e-04],\n",
              "       [9.99844551e-01, 1.55408852e-04],\n",
              "       [9.11125422e-01, 8.88745189e-02],\n",
              "       [9.99535322e-01, 4.64676326e-04],\n",
              "       [9.99721706e-01, 2.78245483e-04],\n",
              "       [9.99532461e-01, 4.67608334e-04],\n",
              "       [9.32658017e-01, 6.73419908e-02],\n",
              "       [3.78774591e-02, 9.62122560e-01],\n",
              "       [9.99236703e-01, 7.63316639e-04],\n",
              "       [9.99979734e-01, 2.02202173e-05],\n",
              "       [8.68195653e-01, 1.31804317e-01],\n",
              "       [1.71862897e-02, 9.82813716e-01],\n",
              "       [9.99974608e-01, 2.53323324e-05],\n",
              "       [9.98372138e-01, 1.62784033e-03],\n",
              "       [9.99691486e-01, 3.08548624e-04],\n",
              "       [9.99736130e-01, 2.63825728e-04],\n",
              "       [9.99985933e-01, 1.40380071e-05],\n",
              "       [9.22719181e-01, 7.72807822e-02],\n",
              "       [9.99414682e-01, 5.85282105e-04],\n",
              "       [1.96947902e-02, 9.80305195e-01],\n",
              "       [8.74974823e-04, 9.99125063e-01],\n",
              "       [9.99915361e-01, 8.46507319e-05],\n",
              "       [1.96947902e-02, 9.80305195e-01],\n",
              "       [9.79624391e-01, 2.03756467e-02],\n",
              "       [9.99318838e-01, 6.81187958e-04],\n",
              "       [9.99726236e-01, 2.73690326e-04],\n",
              "       [9.74255979e-01, 2.57439762e-02],\n",
              "       [8.37244809e-01, 1.62755206e-01],\n",
              "       [9.99171734e-01, 8.28303222e-04],\n",
              "       [5.49757957e-01, 4.50242013e-01],\n",
              "       [9.99911666e-01, 8.83259927e-05],\n",
              "       [5.91112673e-01, 4.08887357e-01],\n",
              "       [8.48039925e-01, 1.51960135e-01],\n",
              "       [8.16895962e-01, 1.83104038e-01],\n",
              "       [7.61561478e-06, 9.99992371e-01],\n",
              "       [9.81602934e-04, 9.99018431e-01],\n",
              "       [9.47948635e-01, 5.20513281e-02],\n",
              "       [3.21758449e-01, 6.78241551e-01],\n",
              "       [9.95588422e-01, 4.41159168e-03],\n",
              "       [9.96954799e-01, 3.04518151e-03],\n",
              "       [8.07745266e-04, 9.99192297e-01],\n",
              "       [9.88234282e-01, 1.17657175e-02],\n",
              "       [9.99913573e-01, 8.64371395e-05],\n",
              "       [9.99602377e-01, 3.97601194e-04],\n",
              "       [9.96813476e-01, 3.18658887e-03],\n",
              "       [9.60701823e-01, 3.92981842e-02],\n",
              "       [9.99293804e-01, 7.06146064e-04],\n",
              "       [8.69122505e-01, 1.30877480e-01],\n",
              "       [9.98764515e-01, 1.23544887e-03],\n",
              "       [4.43100005e-01, 5.56899965e-01],\n",
              "       [9.66196647e-04, 9.99033809e-01],\n",
              "       [9.99675512e-01, 3.24452209e-04],\n",
              "       [9.72743571e-01, 2.72564124e-02],\n",
              "       [1.22367255e-02, 9.87763226e-01],\n",
              "       [9.97561932e-01, 2.43802299e-03],\n",
              "       [1.71519648e-02, 9.82848048e-01],\n",
              "       [5.06349564e-01, 4.93650436e-01],\n",
              "       [2.70943292e-05, 9.99972939e-01],\n",
              "       [6.36793852e-01, 3.63206118e-01],\n",
              "       [7.30090261e-01, 2.69909739e-01],\n",
              "       [2.75826373e-04, 9.99724209e-01],\n",
              "       [9.98764277e-01, 1.23573618e-03],\n",
              "       [9.78029490e-01, 2.19705347e-02],\n",
              "       [1.60626724e-01, 8.39373350e-01],\n",
              "       [5.45785308e-01, 4.54214662e-01],\n",
              "       [1.67073676e-06, 9.99998331e-01],\n",
              "       [4.52643540e-03, 9.95473564e-01],\n",
              "       [9.99722898e-01, 2.77134619e-04],\n",
              "       [1.26811594e-01, 8.73188436e-01],\n",
              "       [9.99989152e-01, 1.09050125e-05],\n",
              "       [9.99882936e-01, 1.16999749e-04],\n",
              "       [4.40981179e-01, 5.59018850e-01],\n",
              "       [6.43309089e-04, 9.99356687e-01],\n",
              "       [9.76540029e-01, 2.34598853e-02],\n",
              "       [1.28054220e-04, 9.99871969e-01],\n",
              "       [9.99986410e-01, 1.35434393e-05],\n",
              "       [9.99712169e-01, 2.87804083e-04],\n",
              "       [9.99204576e-01, 7.95433065e-04],\n",
              "       [6.70145154e-01, 3.29854846e-01],\n",
              "       [9.85810995e-01, 1.41889434e-02],\n",
              "       [6.54906109e-02, 9.34509456e-01],\n",
              "       [1.79127164e-04, 9.99820888e-01],\n",
              "       [9.94513512e-01, 5.48646087e-03],\n",
              "       [1.29593043e-02, 9.87040699e-01],\n",
              "       [7.24550188e-01, 2.75449783e-01],\n",
              "       [6.34391152e-04, 9.99365628e-01],\n",
              "       [5.29170912e-08, 1.00000000e+00],\n",
              "       [7.36963630e-01, 2.63036311e-01],\n",
              "       [9.61043239e-01, 3.89567502e-02],\n",
              "       [8.60419273e-01, 1.39580727e-01],\n",
              "       [3.79298180e-02, 9.62070167e-01],\n",
              "       [9.50567305e-01, 4.94327545e-02],\n",
              "       [7.10045099e-01, 2.89954901e-01],\n",
              "       [9.99880075e-01, 1.19922093e-04],\n",
              "       [1.99293878e-04, 9.99800742e-01],\n",
              "       [8.09641540e-01, 1.90358430e-01],\n",
              "       [9.99540806e-01, 4.59195377e-04],\n",
              "       [9.98292387e-01, 1.70757878e-03],\n",
              "       [9.25867438e-01, 7.41325989e-02],\n",
              "       [1.60480719e-02, 9.83951867e-01],\n",
              "       [9.75526273e-01, 2.44737100e-02],\n",
              "       [7.86742894e-04, 9.99213219e-01],\n",
              "       [9.38366413e-01, 6.16336577e-02],\n",
              "       [6.81027304e-05, 9.99931931e-01]], dtype=float32)"
            ]
          },
          "metadata": {
            "tags": []
          },
          "execution_count": 22
        }
      ]
    },
    {
      "cell_type": "code",
      "metadata": {
        "id": "IvaZ80xYeiUI",
        "colab_type": "code",
        "colab": {
          "base_uri": "https://localhost:8080/",
          "height": 187
        },
        "outputId": "317266af-59ba-4eba-cdc7-494b35f065be"
      },
      "source": [
        "pred=np.argmax(pred,axis=1)\n",
        "pred"
      ],
      "execution_count": 23,
      "outputs": [
        {
          "output_type": "execute_result",
          "data": {
            "text/plain": [
              "array([1, 1, 1, 1, 1, 1, 1, 1, 0, 0, 1, 1, 0, 0, 0, 0, 0, 0, 0, 1, 0, 0,\n",
              "       0, 1, 0, 1, 1, 1, 0, 0, 0, 1, 1, 1, 0, 1, 1, 1, 0, 0, 1, 0, 0, 0,\n",
              "       0, 1, 0, 0, 0, 0, 0, 0, 0, 0, 0, 0, 0, 0, 1, 1, 1, 1, 0, 0, 1, 0,\n",
              "       1, 0, 0, 1, 0, 0, 1, 1, 0, 0, 1, 0, 0, 0, 0, 0, 0, 1, 0, 1, 0, 1,\n",
              "       1, 1, 0, 0, 0, 0, 0, 0, 0, 1, 1, 0, 0, 0, 0, 1, 1, 1, 0, 1, 0, 1,\n",
              "       1, 1, 1, 1, 0, 1, 0, 0, 0, 0, 0, 0, 0, 1, 0, 0, 0, 1, 0, 0, 0, 0,\n",
              "       0, 0, 0, 1, 1, 0, 1, 0, 0, 0, 0, 0, 0, 0, 0, 0, 0, 0, 1, 1, 0, 1,\n",
              "       0, 0, 1, 0, 0, 0, 0, 0, 0, 0, 0, 1, 1, 0, 0, 1, 0, 1, 0, 1, 0, 0,\n",
              "       1, 0, 0, 1, 0, 1, 1, 0, 1, 0, 0, 1, 1, 0, 1, 0, 0, 0, 0, 0, 1, 1,\n",
              "       0, 1, 0, 1, 1, 0, 0, 0, 1, 0, 0, 0, 1, 0, 0, 0, 0, 1, 0, 1, 0, 1])"
            ]
          },
          "metadata": {
            "tags": []
          },
          "execution_count": 23
        }
      ]
    },
    {
      "cell_type": "markdown",
      "metadata": {
        "id": "ZwgVmv1re7LH",
        "colab_type": "text"
      },
      "source": [
        "## Loading our Model"
      ]
    },
    {
      "cell_type": "code",
      "metadata": {
        "id": "zahDfoU_e_TO",
        "colab_type": "code",
        "colab": {}
      },
      "source": [
        "model=load_model('/content/Covid Chest X-Ray Model.h5')"
      ],
      "execution_count": 26,
      "outputs": []
    },
    {
      "cell_type": "code",
      "metadata": {
        "id": "0RhfiKQsfT3t",
        "colab_type": "code",
        "colab": {}
      },
      "source": [
        "from tensorflow.keras.preprocessing import image\n",
        "img=image.load_img('/content/gdrive/My Drive/Colab Notebooks/Covid Chest X-ray/Data Set/Test/Covid/1-s2.0-S0929664620300449-gr2_lrg-b.jpg', target_size=(224,224))"
      ],
      "execution_count": 28,
      "outputs": []
    },
    {
      "cell_type": "code",
      "metadata": {
        "id": "s4lQSLrOiQO9",
        "colab_type": "code",
        "colab": {
          "base_uri": "https://localhost:8080/",
          "height": 850
        },
        "outputId": "050b6998-a5e7-4dbc-9e55-1d62d741d8bf"
      },
      "source": [
        "x = image.img_to_array(img)\n",
        "x"
      ],
      "execution_count": 29,
      "outputs": [
        {
          "output_type": "execute_result",
          "data": {
            "text/plain": [
              "array([[[  0.,   0.,   0.],\n",
              "        [  1.,   1.,   1.],\n",
              "        [  0.,   0.,   0.],\n",
              "        ...,\n",
              "        [  0.,   0.,   0.],\n",
              "        [  1.,   1.,   1.],\n",
              "        [255., 255., 255.]],\n",
              "\n",
              "       [[  1.,   1.,   1.],\n",
              "        [  2.,   2.,   2.],\n",
              "        [255., 255., 255.],\n",
              "        ...,\n",
              "        [  0.,   0.,   0.],\n",
              "        [  0.,   0.,   0.],\n",
              "        [254., 254., 254.]],\n",
              "\n",
              "       [[  1.,   1.,   1.],\n",
              "        [  1.,   1.,   1.],\n",
              "        [255., 255., 255.],\n",
              "        ...,\n",
              "        [  0.,   0.,   0.],\n",
              "        [  0.,   0.,   0.],\n",
              "        [255., 255., 255.]],\n",
              "\n",
              "       ...,\n",
              "\n",
              "       [[  0.,   0.,   0.],\n",
              "        [  1.,   1.,   1.],\n",
              "        [  0.,   0.,   0.],\n",
              "        ...,\n",
              "        [  0.,   0.,   0.],\n",
              "        [  0.,   0.,   0.],\n",
              "        [255., 255., 255.]],\n",
              "\n",
              "       [[  0.,   0.,   0.],\n",
              "        [  1.,   1.,   1.],\n",
              "        [  0.,   0.,   0.],\n",
              "        ...,\n",
              "        [  0.,   0.,   0.],\n",
              "        [  0.,   0.,   0.],\n",
              "        [255., 255., 255.]],\n",
              "\n",
              "       [[  0.,   0.,   0.],\n",
              "        [  1.,   1.,   1.],\n",
              "        [  0.,   0.,   0.],\n",
              "        ...,\n",
              "        [  0.,   0.,   0.],\n",
              "        [  0.,   0.,   0.],\n",
              "        [255., 255., 255.]]], dtype=float32)"
            ]
          },
          "metadata": {
            "tags": []
          },
          "execution_count": 29
        }
      ]
    },
    {
      "cell_type": "code",
      "metadata": {
        "id": "L8IaCEcJiQiG",
        "colab_type": "code",
        "colab": {
          "base_uri": "https://localhost:8080/",
          "height": 34
        },
        "outputId": "c58e11bd-ce70-4c2c-f386-5905ac556ff5"
      },
      "source": [
        "x.shape"
      ],
      "execution_count": 30,
      "outputs": [
        {
          "output_type": "execute_result",
          "data": {
            "text/plain": [
              "(224, 224, 3)"
            ]
          },
          "metadata": {
            "tags": []
          },
          "execution_count": 30
        }
      ]
    },
    {
      "cell_type": "code",
      "metadata": {
        "id": "8FbkoPR5iQoA",
        "colab_type": "code",
        "colab": {}
      },
      "source": [
        "x = x/255"
      ],
      "execution_count": 31,
      "outputs": []
    },
    {
      "cell_type": "code",
      "metadata": {
        "id": "REl-LehEiQnU",
        "colab_type": "code",
        "colab": {
          "base_uri": "https://localhost:8080/",
          "height": 34
        },
        "outputId": "5da45189-2aa3-4df5-fe47-a9b933556723"
      },
      "source": [
        "from tensorflow.keras.applications.resnet50 import preprocess_input\n",
        "\n",
        "x=np.expand_dims(x,axis=0)\n",
        "img_data=preprocess_input(x)\n",
        "img_data.shape"
      ],
      "execution_count": 32,
      "outputs": [
        {
          "output_type": "execute_result",
          "data": {
            "text/plain": [
              "(1, 224, 224, 3)"
            ]
          },
          "metadata": {
            "tags": []
          },
          "execution_count": 32
        }
      ]
    },
    {
      "cell_type": "code",
      "metadata": {
        "id": "9vtj_K-GiQhc",
        "colab_type": "code",
        "colab": {
          "base_uri": "https://localhost:8080/",
          "height": 34
        },
        "outputId": "074ca233-e254-4703-fb00-02729fca0bc2"
      },
      "source": [
        "model.predict(img_data)"
      ],
      "execution_count": 33,
      "outputs": [
        {
          "output_type": "execute_result",
          "data": {
            "text/plain": [
              "array([[1.000000e+00, 8.966153e-26]], dtype=float32)"
            ]
          },
          "metadata": {
            "tags": []
          },
          "execution_count": 33
        }
      ]
    },
    {
      "cell_type": "code",
      "metadata": {
        "id": "JNlyGjjEit5B",
        "colab_type": "code",
        "colab": {}
      },
      "source": [
        "a=np.argmax(model.predict(img_data), axis=1)"
      ],
      "execution_count": 34,
      "outputs": []
    },
    {
      "cell_type": "code",
      "metadata": {
        "id": "s7ycmnBciuC5",
        "colab_type": "code",
        "colab": {
          "base_uri": "https://localhost:8080/",
          "height": 34
        },
        "outputId": "366e2a28-052f-4440-ca96-0a2f05c3a3ca"
      },
      "source": [
        "if(a==1):\n",
        "    print(\"The person does not have COVID-19\")\n",
        "else:\n",
        "    print(\"The person has COVID-19\")"
      ],
      "execution_count": 35,
      "outputs": [
        {
          "output_type": "stream",
          "text": [
            "The person has COVID-19\n"
          ],
          "name": "stdout"
        }
      ]
    },
    {
      "cell_type": "code",
      "metadata": {
        "id": "ZRc1jquPbCUW",
        "colab_type": "code",
        "colab": {}
      },
      "source": [
        ""
      ],
      "execution_count": null,
      "outputs": []
    }
  ]
}